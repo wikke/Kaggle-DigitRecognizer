{
 "cells": [
  {
   "cell_type": "code",
   "execution_count": 1,
   "metadata": {
    "collapsed": true
   },
   "outputs": [],
   "source": [
    "import numpy as np\n",
    "import pandas as pd\n",
    "from pandas import Series, DataFrame\n",
    "\n",
    "import matplotlib.pyplot as plt\n",
    "%matplotlib inline\n",
    "\n",
    "import seaborn as sns\n",
    "sns.set(style='whitegrid')"
   ]
  },
  {
   "cell_type": "code",
   "execution_count": 2,
   "metadata": {
    "scrolled": true
   },
   "outputs": [
    {
     "data": {
      "text/plain": [
       "((42000, 785), (28000, 784))"
      ]
     },
     "execution_count": 2,
     "metadata": {},
     "output_type": "execute_result"
    }
   ],
   "source": [
    "train = pd.read_csv('train.csv')\n",
    "test = pd.read_csv('test.csv')\n",
    "\n",
    "train.shape, test.shape"
   ]
  },
  {
   "cell_type": "code",
   "execution_count": 3,
   "metadata": {},
   "outputs": [
    {
     "data": {
      "text/plain": [
       "<matplotlib.image.AxesImage at 0x11567b320>"
      ]
     },
     "execution_count": 3,
     "metadata": {},
     "output_type": "execute_result"
    },
    {
     "data": {
      "image/png": "[encoded data removed]",
      "text/plain": [
       "<matplotlib.figure.Figure at 0x11615de10>"
      ]
     },
     "metadata": {},
     "output_type": "display_data"
    }
   ],
   "source": [
    "# 使用ndarray，而不是DataFrame\n",
    "train_images = train.iloc[:, 1:].values\n",
    "train_labels = train.iloc[:, 0].values\n",
    "test_images = test.iloc[:].values\n",
    "\n",
    "plt.imshow(test_images[0].reshape(28, 28), cmap='gray')"
   ]
  },
  {
   "cell_type": "markdown",
   "metadata": {},
   "source": [
    "# SVM"
   ]
  },
  {
   "cell_type": "code",
   "execution_count": 6,
   "metadata": {},
   "outputs": [
    {
     "name": "stdout",
     "output_type": "stream",
     "text": [
      "score 0.9067 with only 5000 samples\n"
     ]
    }
   ],
   "source": [
    "from sklearn.model_selection import train_test_split\n",
    "from sklearn.svm import SVC\n",
    "\n",
    "SAMPLE_SIZE = 5000\n",
    "X_all = train_images[:SAMPLE_SIZE].copy()\n",
    "y_all = train_labels[:SAMPLE_SIZE].copy()\n",
    "X_test = test_images[:].copy()\n",
    "\n",
    "# sharpen\n",
    "X_all[X_all < 32] = 0\n",
    "X_all[X_all >= 32] = 1\n",
    "X_test[X_test < 32] = 0\n",
    "X_test[X_test >= 32] = 1\n",
    "\n",
    "X_train, X_val, y_train, y_val = train_test_split(X_all, y_all, test_size = 0.3)\n",
    "\n",
    "svc = SVC()\n",
    "svc.fit(X_train, y_train)\n",
    "print (\"score %.4f with only %d samples\" % (svc.score(X_val, y_val), SAMPLE_SIZE))"
   ]
  },
  {
   "cell_type": "markdown",
   "metadata": {},
   "source": [
    "# CNN"
   ]
  },
  {
   "cell_type": "code",
   "execution_count": 7,
   "metadata": {},
   "outputs": [
    {
     "name": "stderr",
     "output_type": "stream",
     "text": [
      "Using TensorFlow backend.\n"
     ]
    }
   ],
   "source": [
    "from sklearn.model_selection import train_test_split\n",
    "\n",
    "import keras\n",
    "from keras.models import Sequential\n",
    "from keras.layers import Dense, Dropout, Flatten, Conv2D, MaxPool2D"
   ]
  },
  {
   "cell_type": "code",
   "execution_count": 8,
   "metadata": {
    "collapsed": true
   },
   "outputs": [],
   "source": [
    "NUM_CLASSES = 10\n",
    "IMG_WIDTH = 28\n",
    "IMG_HEIGHT = 28\n",
    "IMG_CHANNEL = 1\n",
    "\n",
    "SAMPLE_SIZE = 2000\n",
    "X_all = train_images[:SAMPLE_SIZE].copy()\n",
    "y_all = train_labels[:SAMPLE_SIZE].copy()\n",
    "# final train\n",
    "#X_all = train_images[:].copy()\n",
    "#y_all = train_labels[:].copy()\n",
    "X_test = test_images[:].copy()\n",
    "\n",
    "# faster\n",
    "X_all = X_all.astype('float32') / 255\n",
    "X_all = X_all.reshape(-1, IMG_WIDTH, IMG_HEIGHT, IMG_CHANNEL)\n",
    "X_test = X_test.astype('float32') / 255\n",
    "X_test = X_test.reshape(-1, IMG_WIDTH, IMG_HEIGHT, IMG_CHANNEL)\n",
    "y_all = keras.utils.to_categorical(y_all, num_classes = NUM_CLASSES)\n",
    "\n",
    "# 把这一部放在整理数据最后，训练数据之前，从而可以让后面的训练可以使用X_train，也可以使用X_all\n",
    "X_train, X_val, y_train, y_val = train_test_split(X_all, y_all, test_size = 0.3)"
   ]
  },
  {
   "cell_type": "code",
   "execution_count": 9,
   "metadata": {},
   "outputs": [
    {
     "name": "stdout",
     "output_type": "stream",
     "text": [
      "Train on 1400 samples, validate on 600 samples\n",
      "Epoch 1/12\n",
      "1400/1400 [==============================] - 4s - loss: 2.0955 - acc: 0.3300 - val_loss: 1.6731 - val_acc: 0.5250\n",
      "Epoch 2/12\n",
      "1400/1400 [==============================] - 3s - loss: 1.3362 - acc: 0.5771 - val_loss: 0.8543 - val_acc: 0.7700\n",
      "Epoch 3/12\n",
      "1400/1400 [==============================] - 3s - loss: 0.7519 - acc: 0.7714 - val_loss: 0.6272 - val_acc: 0.8250\n",
      "Epoch 4/12\n",
      "1400/1400 [==============================] - 3s - loss: 0.5393 - acc: 0.8429 - val_loss: 0.4392 - val_acc: 0.8750\n",
      "Epoch 5/12\n",
      "1400/1400 [==============================] - 3s - loss: 0.4066 - acc: 0.8743 - val_loss: 0.3058 - val_acc: 0.9067\n",
      "Epoch 6/12\n",
      "1400/1400 [==============================] - 3s - loss: 0.2990 - acc: 0.9107 - val_loss: 0.2587 - val_acc: 0.9317\n",
      "Epoch 7/12\n",
      "1400/1400 [==============================] - 3s - loss: 0.2672 - acc: 0.9200 - val_loss: 0.2424 - val_acc: 0.9217\n",
      "Epoch 8/12\n",
      "1400/1400 [==============================] - 3s - loss: 0.2113 - acc: 0.9357 - val_loss: 0.2017 - val_acc: 0.9367\n",
      "Epoch 9/12\n",
      "1400/1400 [==============================] - 3s - loss: 0.2040 - acc: 0.9307 - val_loss: 0.1913 - val_acc: 0.9367\n",
      "Epoch 10/12\n",
      "1400/1400 [==============================] - 3s - loss: 0.1679 - acc: 0.9557 - val_loss: 0.1649 - val_acc: 0.9550\n",
      "Epoch 11/12\n",
      "1400/1400 [==============================] - 3s - loss: 0.1411 - acc: 0.9557 - val_loss: 0.1622 - val_acc: 0.9517\n",
      "Epoch 12/12\n",
      "1400/1400 [==============================] - 3s - loss: 0.1303 - acc: 0.9586 - val_loss: 0.1460 - val_acc: 0.9583\n",
      "600/600 [==============================] - 0s     \n"
     ]
    },
    {
     "data": {
      "text/plain": [
       "[0.13449147601922354, 0.95999999920527135]"
      ]
     },
     "execution_count": 9,
     "metadata": {},
     "output_type": "execute_result"
    }
   ],
   "source": [
    "m = Sequential()\n",
    "\n",
    "# filter 100,200: far to converge and hard to train\n",
    "# filter 64,128: bad result\n",
    "# filter 16,32: worse\n",
    "m.add(Conv2D(filters=32, kernel_size=(5, 5), activation='relu', input_shape=(IMG_WIDTH, IMG_HEIGHT, IMG_CHANNEL)))\n",
    "m.add(MaxPool2D(pool_size=(2, 2)))#good, fast at least, 需要更多的epochs才能converge\n",
    "\n",
    "# Good, more knowledge. (2, 2)good, (5, 5) better\n",
    "m.add(Conv2D(filters=64, kernel_size=(5, 5), activation='relu'))\n",
    "m.add(MaxPool2D(pool_size=(2, 2)))\n",
    "\n",
    "# 实验结果显示dropout最好在softmax前面一层放比较好，中间引入会降低结果\n",
    "#m.add(Dropout(0.25))\n",
    "\n",
    "m.add(Flatten())\n",
    "# 1024 good for more data\n",
    "m.add(Dense(1024, activation='relu'))\n",
    "\n",
    "# prevent overfitting works, 0.1太小，容易variance\n",
    "m.add(Dropout(0.5)) \n",
    "\n",
    "m.add(Dense(NUM_CLASSES, activation='softmax'))\n",
    "\n",
    "EPOCHS = 12\n",
    "BATCH_SIZE = 128\n",
    "\n",
    "m.compile(loss='categorical_crossentropy', optimizer='Adadelta', metrics=['accuracy'])\n",
    "train_his = m.fit(X_all, y_all, epochs=EPOCHS, batch_size=BATCH_SIZE, validation_split=0.3)\n",
    "m.evaluate(X_val, y_val, batch_size=BATCH_SIZE)"
   ]
  },
  {
   "cell_type": "code",
   "execution_count": 10,
   "metadata": {},
   "outputs": [
    {
     "data": {
      "text/plain": [
       "<matplotlib.axes._subplots.AxesSubplot at 0x1227d5208>"
      ]
     },
     "execution_count": 10,
     "metadata": {},
     "output_type": "execute_result"
    },
    {
     "data": {
      "image/png": "[encoded data removed]",
      "text/plain": [
       "<matplotlib.figure.Figure at 0x11615d748>"
      ]
     },
     "metadata": {},
     "output_type": "display_data"
    }
   ],
   "source": [
    "train_data = DataFrame({\n",
    "    'epoch': train_his.epoch,\n",
    "    'train_acc': train_his.history['acc'],\n",
    "    'train_loss': train_his.history['loss'],\n",
    "    'val_acc': train_his.history['val_acc'],\n",
    "    'val_loss': train_his.history['val_loss']\n",
    "})\n",
    "\n",
    "fig, (ax1, ax2) = plt.subplots(1, 2, figsize=(20, 10))\n",
    "\n",
    "sns.regplot(data=train_data, x='epoch', y='train_acc', fit_reg=None, ax=ax1)\n",
    "sns.regplot(data=train_data, x='epoch', y='val_acc', fit_reg=None, ax=ax1)\n",
    "\n",
    "sns.regplot(data=train_data, x='epoch', y='train_loss', fit_reg=None, ax=ax2)\n",
    "sns.regplot(data=train_data, x='epoch', y='val_loss', fit_reg=None, ax=ax2)"
   ]
  },
  {
   "cell_type": "code",
   "execution_count": 11,
   "metadata": {},
   "outputs": [
    {
     "name": "stdout",
     "output_type": "stream",
     "text": [
      "28000/28000 [==============================] - 22s    \n"
     ]
    }
   ],
   "source": [
    "y_pred = m.predict_classes(X_test, batch_size=BATCH_SIZE)\n",
    "\n",
    "submission = pd.DataFrame({\n",
    "    \"ImageId\": [i+1 for i in range(test.shape[0])],\n",
    "    \"Label\": y_pred\n",
    "})\n",
    "submission.to_csv('prediction.csv', index=False)"
   ]
  }
 ],
 "metadata": {
  "kernelspec": {
   "display_name": "Python 3",
   "language": "python",
   "name": "python3"
  },
  "language_info": {
   "codemirror_mode": {
    "name": "ipython",
    "version": 3
   },
   "file_extension": ".py",
   "mimetype": "text/x-python",
   "name": "python",
   "nbconvert_exporter": "python",
   "pygments_lexer": "ipython3",
   "version": "3.6.1"
  }
 },
 "nbformat": 4,
 "nbformat_minor": 2
}
